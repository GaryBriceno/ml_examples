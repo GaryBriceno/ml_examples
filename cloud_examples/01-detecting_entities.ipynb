{
 "cells": [
  {
   "cell_type": "markdown",
   "metadata": {},
   "source": [
    "### Reference\n",
    "- https://docs.aws.amazon.com/comprehend/latest/dg/API_DetectEntities.html\n",
    "- https://docs.aws.amazon.com/comprehend/latest/dg/get-started-api-med.html\n",
    "\n",
    "### boto3\n",
    "- boto3 is the library to work with AWS"
   ]
  },
  {
   "cell_type": "code",
   "execution_count": 2,
   "metadata": {},
   "outputs": [
    {
     "name": "stderr",
     "output_type": "stream",
     "text": [
      "WARNING: You are using pip version 21.0.1; however, version 21.1.1 is available.\n",
      "You should consider upgrading via the 'e:\\developer\\python\\anaconda3\\python.exe -m pip install --upgrade pip' command.\n"
     ]
    }
   ],
   "source": [
    "!pip -q install boto3"
   ]
  },
  {
   "cell_type": "code",
   "execution_count": 3,
   "metadata": {
    "collapsed": true
   },
   "outputs": [],
   "source": [
    "import boto3"
   ]
  },
  {
   "cell_type": "code",
   "execution_count": 9,
   "metadata": {
    "collapsed": true
   },
   "outputs": [],
   "source": [
    "client = boto3.client(service_name='comprehendmedical', region_name='us-east-1')"
   ]
  },
  {
   "cell_type": "code",
   "execution_count": 10,
   "metadata": {
    "collapsed": true
   },
   "outputs": [],
   "source": [
    "text = \"Bob ordered two sandwiches and three ice cream cones today from a store in Seattle.\"\n",
    "another_text = \"cerealx 84 mg daily\" "
   ]
  },
  {
   "cell_type": "code",
   "execution_count": 11,
   "metadata": {
    "collapsed": true
   },
   "outputs": [],
   "source": [
    "result = client.detect_entities(Text= another_text)\n",
    "entities = result['Entities'];"
   ]
  },
  {
   "cell_type": "code",
   "execution_count": 12,
   "metadata": {},
   "outputs": [
    {
     "name": "stdout",
     "output_type": "stream",
     "text": [
      "Entity {'Id': 0, 'BeginOffset': 0, 'EndOffset': 7, 'Score': 0.8877692222595215, 'Text': 'cerealx', 'Category': 'MEDICATION', 'Type': 'BRAND_NAME', 'Traits': [], 'Attributes': [{'Type': 'DOSAGE', 'Score': 0.9337134957313538, 'RelationshipScore': 0.9995119571685791, 'RelationshipType': 'DOSAGE', 'Id': 1, 'BeginOffset': 8, 'EndOffset': 13, 'Text': '84 mg', 'Category': 'MEDICATION', 'Traits': []}, {'Type': 'FREQUENCY', 'Score': 0.990627646446228, 'RelationshipScore': 0.998765230178833, 'RelationshipType': 'FREQUENCY', 'Id': 2, 'BeginOffset': 14, 'EndOffset': 19, 'Text': 'daily', 'Category': 'MEDICATION', 'Traits': []}]}\n"
     ]
    }
   ],
   "source": [
    "for entity in entities:\n",
    "    print('Entity', entity)"
   ]
  },
  {
   "cell_type": "code",
   "execution_count": null,
   "metadata": {
    "collapsed": true
   },
   "outputs": [],
   "source": []
  }
 ],
 "metadata": {
  "kernelspec": {
   "display_name": "Python 2",
   "language": "python",
   "name": "python2"
  },
  "language_info": {
   "codemirror_mode": {
    "name": "ipython",
    "version": 2
   },
   "file_extension": ".py",
   "mimetype": "text/x-python",
   "name": "python",
   "nbconvert_exporter": "python",
   "pygments_lexer": "ipython2",
   "version": "2.7.13"
  }
 },
 "nbformat": 4,
 "nbformat_minor": 2
}
