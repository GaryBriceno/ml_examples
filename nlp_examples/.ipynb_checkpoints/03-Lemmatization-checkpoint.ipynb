{
 "cells": [
  {
   "cell_type": "code",
   "execution_count": 1,
   "id": "b343ffeb",
   "metadata": {},
   "outputs": [],
   "source": [
    "import spacy"
   ]
  },
  {
   "cell_type": "code",
   "execution_count": 2,
   "id": "680fa502",
   "metadata": {},
   "outputs": [],
   "source": [
    "nlp = spacy.load('en_core_web_sm')"
   ]
  },
  {
   "cell_type": "code",
   "execution_count": 12,
   "id": "c640c79e",
   "metadata": {},
   "outputs": [],
   "source": [
    "my_string = \"compute computer computed computing\""
   ]
  },
  {
   "cell_type": "code",
   "execution_count": 13,
   "id": "70d21a7a",
   "metadata": {},
   "outputs": [],
   "source": [
    "doc = nlp(my_string)"
   ]
  },
  {
   "cell_type": "code",
   "execution_count": 14,
   "id": "08516c1f",
   "metadata": {},
   "outputs": [
    {
     "name": "stdout",
     "output_type": "stream",
     "text": [
      "compute --> compute\n",
      "computer --> computer\n",
      "computed --> compute\n",
      "computing --> compute\n"
     ]
    }
   ],
   "source": [
    "for token in doc:\n",
    "    print(token, '-->', token.lemma_)"
   ]
  },
  {
   "cell_type": "code",
   "execution_count": 15,
   "id": "8e742984",
   "metadata": {},
   "outputs": [],
   "source": [
    "sentence = \"A letter has been written.\""
   ]
  },
  {
   "cell_type": "code",
   "execution_count": 16,
   "id": "f1f5197b",
   "metadata": {},
   "outputs": [],
   "source": [
    "doc = nlp(sentence)"
   ]
  },
  {
   "cell_type": "code",
   "execution_count": 17,
   "id": "fd6b300d",
   "metadata": {},
   "outputs": [
    {
     "name": "stdout",
     "output_type": "stream",
     "text": [
      "A --> a\n",
      "letter --> letter\n",
      "has --> have\n",
      "been --> be\n",
      "written --> write\n",
      ". --> .\n"
     ]
    }
   ],
   "source": [
    "for token in doc:\n",
    "    print(token, '-->', token.lemma_)"
   ]
  },
  {
   "cell_type": "markdown",
   "id": "58b20c3c",
   "metadata": {},
   "source": [
    "--- \n",
    "\n",
    "Referencia:\n",
    "    \n",
    "- https://stackabuse.com/python-for-nlp-tokenization-stemming-and-lemmatization-with-spacy-library/\n",
    "    \n",
    "--- "
   ]
  },
  {
   "cell_type": "code",
   "execution_count": null,
   "id": "3159af09",
   "metadata": {},
   "outputs": [],
   "source": []
  }
 ],
 "metadata": {
  "kernelspec": {
   "display_name": "ve_ml37",
   "language": "python",
   "name": "ve_ml37"
  },
  "language_info": {
   "codemirror_mode": {
    "name": "ipython",
    "version": 3
   },
   "file_extension": ".py",
   "mimetype": "text/x-python",
   "name": "python",
   "nbconvert_exporter": "python",
   "pygments_lexer": "ipython3",
   "version": "3.7.0"
  }
 },
 "nbformat": 4,
 "nbformat_minor": 5
}
