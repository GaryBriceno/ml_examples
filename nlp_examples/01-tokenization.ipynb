{
 "cells": [
  {
   "cell_type": "code",
   "execution_count": 10,
   "id": "9bf4ca47",
   "metadata": {},
   "outputs": [
    {
     "data": {
      "text/plain": [
       "'We are moving to L.A. , and we want to know all the stars from Hollywood.'"
      ]
     },
     "execution_count": 10,
     "metadata": {},
     "output_type": "execute_result"
    }
   ],
   "source": [
    "my_string = \"We are moving to L.A. , and we want to know all the stars from Hollywood.\"\n",
    "my_string"
   ]
  },
  {
   "cell_type": "markdown",
   "id": "19537b3a",
   "metadata": {},
   "source": [
    "### 1. With split()"
   ]
  },
  {
   "cell_type": "code",
   "execution_count": 13,
   "id": "82fcd264",
   "metadata": {},
   "outputs": [
    {
     "data": {
      "text/plain": [
       "['We',\n",
       " 'are',\n",
       " 'moving',\n",
       " 'to',\n",
       " 'L.A.',\n",
       " ',',\n",
       " 'and',\n",
       " 'we',\n",
       " 'want',\n",
       " 'to',\n",
       " 'know',\n",
       " 'all',\n",
       " 'the',\n",
       " 'stars',\n",
       " 'from',\n",
       " 'Hollywood.']"
      ]
     },
     "execution_count": 13,
     "metadata": {},
     "output_type": "execute_result"
    }
   ],
   "source": [
    "my_string.split()"
   ]
  },
  {
   "cell_type": "markdown",
   "id": "2ceba1cc",
   "metadata": {},
   "source": [
    "### 2. With Spacy"
   ]
  },
  {
   "cell_type": "code",
   "execution_count": 1,
   "id": "031c73fa",
   "metadata": {},
   "outputs": [],
   "source": [
    "import spacy"
   ]
  },
  {
   "cell_type": "code",
   "execution_count": 3,
   "id": "a10d6f45",
   "metadata": {},
   "outputs": [],
   "source": [
    "# To download the en_core_web_sm\n",
    "# python -m spacy download en_core_web_sm\n",
    "nlp = spacy.load('en_core_web_sm')"
   ]
  },
  {
   "cell_type": "code",
   "execution_count": 5,
   "id": "7b8554fb",
   "metadata": {},
   "outputs": [],
   "source": [
    "doc = nlp(my_string)"
   ]
  },
  {
   "cell_type": "code",
   "execution_count": 11,
   "id": "c0a9eab9",
   "metadata": {},
   "outputs": [
    {
     "name": "stdout",
     "output_type": "stream",
     "text": [
      "We\n",
      "are\n",
      "moving\n",
      "to\n",
      "L.A.\n",
      ",\n",
      "and\n",
      "we\n",
      "want\n",
      "to\n",
      "know\n",
      "all\n",
      "the\n",
      "stars\n",
      "from\n",
      "Hollywood\n",
      ".\n"
     ]
    }
   ],
   "source": [
    "for token in doc:\n",
    "    print(token.text)"
   ]
  },
  {
   "cell_type": "markdown",
   "id": "cfd4a42a",
   "metadata": {},
   "source": [
    "### 3. With NLTK"
   ]
  },
  {
   "cell_type": "code",
   "execution_count": 14,
   "id": "47e1e82a",
   "metadata": {},
   "outputs": [],
   "source": [
    "from nltk.tokenize import word_tokenize"
   ]
  },
  {
   "cell_type": "code",
   "execution_count": 16,
   "id": "16c37175",
   "metadata": {},
   "outputs": [
    {
     "data": {
      "text/plain": [
       "['We',\n",
       " 'are',\n",
       " 'moving',\n",
       " 'to',\n",
       " 'L.A.',\n",
       " ',',\n",
       " 'and',\n",
       " 'we',\n",
       " 'want',\n",
       " 'to',\n",
       " 'know',\n",
       " 'all',\n",
       " 'the',\n",
       " 'stars',\n",
       " 'from',\n",
       " 'Hollywood',\n",
       " '.']"
      ]
     },
     "execution_count": 16,
     "metadata": {},
     "output_type": "execute_result"
    }
   ],
   "source": [
    "word_tokenize(my_string)"
   ]
  },
  {
   "cell_type": "markdown",
   "id": "89257706",
   "metadata": {},
   "source": [
    "---\n",
    "Referencias:\n",
    "    \n",
    "- https://towardsdatascience.com/5-simple-ways-to-tokenize-text-in-python-92c6804edfc4"
   ]
  },
  {
   "cell_type": "code",
   "execution_count": null,
   "id": "774c86a3",
   "metadata": {},
   "outputs": [],
   "source": []
  }
 ],
 "metadata": {
  "kernelspec": {
   "display_name": "ve_ml37",
   "language": "python",
   "name": "ve_ml37"
  },
  "language_info": {
   "codemirror_mode": {
    "name": "ipython",
    "version": 3
   },
   "file_extension": ".py",
   "mimetype": "text/x-python",
   "name": "python",
   "nbconvert_exporter": "python",
   "pygments_lexer": "ipython3",
   "version": "3.7.0"
  }
 },
 "nbformat": 4,
 "nbformat_minor": 5
}
