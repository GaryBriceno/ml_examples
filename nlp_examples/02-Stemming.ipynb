{
 "cells": [
  {
   "cell_type": "markdown",
   "id": "01c2723e",
   "metadata": {},
   "source": [
    "---\n",
    "\n",
    "- playing --> play\n",
    "- plays --> play\n",
    "- played --> play\n",
    "\n",
    "---"
   ]
  },
  {
   "cell_type": "code",
   "execution_count": 1,
   "id": "52c1cb5d",
   "metadata": {},
   "outputs": [],
   "source": [
    "import nltk"
   ]
  },
  {
   "cell_type": "code",
   "execution_count": 4,
   "id": "72b57888",
   "metadata": {},
   "outputs": [],
   "source": [
    "# nltk.download()"
   ]
  },
  {
   "cell_type": "code",
   "execution_count": 2,
   "id": "12fb2dff",
   "metadata": {},
   "outputs": [],
   "source": [
    "from nltk import PorterStemmer"
   ]
  },
  {
   "cell_type": "code",
   "execution_count": 3,
   "id": "c9140ce3",
   "metadata": {},
   "outputs": [],
   "source": [
    "porter = PorterStemmer()"
   ]
  },
  {
   "cell_type": "code",
   "execution_count": 5,
   "id": "36a9f35f",
   "metadata": {},
   "outputs": [
    {
     "name": "stdout",
     "output_type": "stream",
     "text": [
      "play\n"
     ]
    }
   ],
   "source": [
    "print(porter.stem(\"playing\"))"
   ]
  },
  {
   "cell_type": "code",
   "execution_count": 6,
   "id": "ac50cb72",
   "metadata": {},
   "outputs": [
    {
     "name": "stdout",
     "output_type": "stream",
     "text": [
      "play\n"
     ]
    }
   ],
   "source": [
    "print(porter.stem(\"plays\"))"
   ]
  },
  {
   "cell_type": "code",
   "execution_count": 7,
   "id": "941f32af",
   "metadata": {},
   "outputs": [
    {
     "name": "stdout",
     "output_type": "stream",
     "text": [
      "play\n"
     ]
    }
   ],
   "source": [
    "print(porter.stem(\"played\"))"
   ]
  },
  {
   "cell_type": "code",
   "execution_count": 10,
   "id": "46769432",
   "metadata": {},
   "outputs": [
    {
     "data": {
      "text/plain": [
       "'pythoners are very intelligent and work very pythonly and now they are pythoning their way to success.'"
      ]
     },
     "execution_count": 10,
     "metadata": {},
     "output_type": "execute_result"
    }
   ],
   "source": [
    "# Stemmer sees the entire sentence as a word, so it returns it as it is.\n",
    "# For that reason, first the NLP process tokenize the sentence.\n",
    "\n",
    "sentence=\"Pythoners are very intelligent and work very pythonly and now they are pythoning their way to success.\"\n",
    "porter.stem(sentence)"
   ]
  },
  {
   "cell_type": "code",
   "execution_count": 8,
   "id": "bcc522d2",
   "metadata": {},
   "outputs": [],
   "source": [
    "# from nltk import PorterStemmer"
   ]
  },
  {
   "cell_type": "markdown",
   "id": "786d9391",
   "metadata": {},
   "source": [
    "--- \n",
    "\n",
    "Referencia:\n",
    "- https://www.datacamp.com/community/tutorials/stemming-lemmatization-python\n",
    "\n",
    "---"
   ]
  },
  {
   "cell_type": "code",
   "execution_count": null,
   "id": "4327de07",
   "metadata": {},
   "outputs": [],
   "source": []
  }
 ],
 "metadata": {
  "kernelspec": {
   "display_name": "ve_ml37",
   "language": "python",
   "name": "ve_ml37"
  },
  "language_info": {
   "codemirror_mode": {
    "name": "ipython",
    "version": 3
   },
   "file_extension": ".py",
   "mimetype": "text/x-python",
   "name": "python",
   "nbconvert_exporter": "python",
   "pygments_lexer": "ipython3",
   "version": "3.7.0"
  }
 },
 "nbformat": 4,
 "nbformat_minor": 5
}
