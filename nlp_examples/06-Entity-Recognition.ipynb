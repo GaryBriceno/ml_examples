{
 "cells": [
  {
   "cell_type": "code",
   "execution_count": 8,
   "id": "030c2f07",
   "metadata": {},
   "outputs": [],
   "source": [
    "import nltk"
   ]
  },
  {
   "cell_type": "code",
   "execution_count": 9,
   "id": "b756c87e",
   "metadata": {},
   "outputs": [],
   "source": [
    "text = \"While Samsung has expanded overseas, South Korea is still host to most of its factories and research engineers\""
   ]
  },
  {
   "cell_type": "code",
   "execution_count": 11,
   "id": "758c7c2b",
   "metadata": {},
   "outputs": [],
   "source": [
    "word = nltk.word_tokenize(text)"
   ]
  },
  {
   "cell_type": "code",
   "execution_count": 12,
   "id": "5245d9fa",
   "metadata": {},
   "outputs": [],
   "source": [
    "pos_tag = nltk.pos_tag(word)"
   ]
  },
  {
   "cell_type": "code",
   "execution_count": 13,
   "id": "61ccc168",
   "metadata": {},
   "outputs": [],
   "source": [
    "chunk = nltk.ne_chunk(pos_tag)"
   ]
  },
  {
   "cell_type": "code",
   "execution_count": 16,
   "id": "d55d6841",
   "metadata": {},
   "outputs": [],
   "source": [
    "NE = [\" \".join(w for w, t in ele) for ele in chunk if isinstance(ele, nltk.Tree)]"
   ]
  },
  {
   "cell_type": "code",
   "execution_count": 17,
   "id": "24616f4e",
   "metadata": {},
   "outputs": [
    {
     "name": "stdout",
     "output_type": "stream",
     "text": [
      "['Samsung', 'South Korea']\n"
     ]
    }
   ],
   "source": [
    "print(NE)"
   ]
  },
  {
   "cell_type": "markdown",
   "id": "623c75e8",
   "metadata": {},
   "source": [
    "---\n",
    "\n",
    "Referencia:\n",
    "\n",
    "- https://www.quora.com/What-is-the-best-NLP-library-for-named-entity-recognition-in-Python\n",
    "- https://spacy.io\n",
    "    \n",
    "---"
   ]
  },
  {
   "cell_type": "code",
   "execution_count": null,
   "id": "acec9a4d",
   "metadata": {},
   "outputs": [],
   "source": []
  }
 ],
 "metadata": {
  "kernelspec": {
   "display_name": "ve_ml37",
   "language": "python",
   "name": "ve_ml37"
  },
  "language_info": {
   "codemirror_mode": {
    "name": "ipython",
    "version": 3
   },
   "file_extension": ".py",
   "mimetype": "text/x-python",
   "name": "python",
   "nbconvert_exporter": "python",
   "pygments_lexer": "ipython3",
   "version": "3.7.0"
  }
 },
 "nbformat": 4,
 "nbformat_minor": 5
}
